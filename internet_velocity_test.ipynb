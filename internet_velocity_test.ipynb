{
 "cells": [
  {
   "cell_type": "code",
   "execution_count": 7,
   "id": "6c3291ad",
   "metadata": {},
   "outputs": [
    {
     "name": "stdout",
     "output_type": "stream",
     "text": [
      "Velocidade de Download:  146171135.9741948\n",
      "Velocidade de Upload:  88721701.82065831\n"
     ]
    }
   ],
   "source": [
    "import speedtest #Importando a biblioteca\n",
    "\n",
    "teste = speedtest.Speedtest() #atribuindo para a variável 'teste' a função responsável desta biblioteca por testar a velocidade da internet\n",
    "baixar = teste.download() #fazendo o teste de velocidade de Download\n",
    "subir = teste.upload() #Fazendo o teste de Upload\n",
    "print(\"Velocidade de Download: \", baixar) #Mostrandoo resultado de Download na tela para o usuário\n",
    "print(\"Velocidade de Upload: \", subir) #Mostrandoo resultado de Upload na tela para o usuário"
   ]
  },
  {
   "cell_type": "code",
   "execution_count": null,
   "id": "83761bdd",
   "metadata": {},
   "outputs": [],
   "source": []
  },
  {
   "cell_type": "code",
   "execution_count": null,
   "id": "bd8cae2a",
   "metadata": {},
   "outputs": [],
   "source": []
  }
 ],
 "metadata": {
  "kernelspec": {
   "display_name": "Python 3 (ipykernel)",
   "language": "python",
   "name": "python3"
  },
  "language_info": {
   "codemirror_mode": {
    "name": "ipython",
    "version": 3
   },
   "file_extension": ".py",
   "mimetype": "text/x-python",
   "name": "python",
   "nbconvert_exporter": "python",
   "pygments_lexer": "ipython3",
   "version": "3.9.7"
  }
 },
 "nbformat": 4,
 "nbformat_minor": 5
}
